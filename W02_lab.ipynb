{
  "cells": [
    {
      "cell_type": "markdown",
      "metadata": {
        "id": "N2XyufpXAiml"
      },
      "source": [
        "# Week 2 Lab\n",
        "\n",
        "**Datasets**:\n",
        "\n",
        "The following datasets are used in this lab.\n",
        "\n",
        "- [nyc_subway_stations.tsv](https://open.gishub.org/data/duckdb/nyc_subway_stations.tsv)\n",
        "- [nyc_neighborhoods.tsv](https://open.gishub.org/data/duckdb/nyc_neighborhoods.tsv)"
      ],
      "id": "N2XyufpXAiml"
    },
    {
      "cell_type": "code",
      "execution_count": null,
      "metadata": {
        "id": "sm0Y13kEAimn"
      },
      "outputs": [],
      "source": [
        "# %pip install duckdb duckdb-engine jupysql"
      ],
      "id": "sm0Y13kEAimn"
    },
    {
      "cell_type": "code",
      "execution_count": null,
      "metadata": {
        "id": "w77Lma0MAimo"
      },
      "outputs": [],
      "source": [
        "import duckdb\n",
        "\n",
        "%load_ext sql"
      ],
      "id": "w77Lma0MAimo"
    },
    {
      "cell_type": "code",
      "execution_count": null,
      "metadata": {
        "id": "rbU1DhGjAimo"
      },
      "outputs": [],
      "source": [
        "%config SqlMagic.autopandas = True\n",
        "%config SqlMagic.feedback = False\n",
        "%config SqlMagic.displaycon = False"
      ],
      "id": "rbU1DhGjAimo"
    },
    {
      "cell_type": "markdown",
      "metadata": {
        "id": "e6wE2EoCAimo"
      },
      "source": [
        "## Question 1: Creating Tables\n",
        "\n",
        "Create a database, then write a SQL query to create a table named `nyc_subway_stations` and load the data from the file `nyc_subway_stations.tsv` into it. Similarly, create a table named `nyc_neighborhoods` and load the data from the file `nyc_neighborhoods.tsv` into it."
      ],
      "id": "e6wE2EoCAimo"
    },
    {
      "cell_type": "code",
      "execution_count": null,
      "metadata": {
        "id": "AyUv2Rk_Aimp"
      },
      "outputs": [],
      "source": [
        "# Add your code here."
      ],
      "id": "AyUv2Rk_Aimp"
    },
    {
      "cell_type": "markdown",
      "metadata": {
        "id": "uwvcHL0cAimp"
      },
      "source": [
        "## Question 2: Column Filtering\n",
        "\n",
        "Write a SQL query to display the `ID`, `NAME`, and `BOROUGH` of each subway station in the `nyc_subway_stations` dataset."
      ],
      "id": "uwvcHL0cAimp"
    },
    {
      "cell_type": "code",
      "execution_count": null,
      "metadata": {
        "id": "qG1DjuV4Aimp"
      },
      "outputs": [],
      "source": [
        "# Add your code here."
      ],
      "id": "qG1DjuV4Aimp"
    },
    {
      "cell_type": "markdown",
      "metadata": {
        "id": "BCLFCSb3Aimp"
      },
      "source": [
        "## Question 3: Row Filtering\n",
        "\n",
        "Write a SQL query to find all subway stations in the `nyc_subway_stations` dataset that are located in the borough of Manhattan."
      ],
      "id": "BCLFCSb3Aimp"
    },
    {
      "cell_type": "code",
      "execution_count": null,
      "metadata": {
        "id": "I8H2LnHqAimq"
      },
      "outputs": [],
      "source": [
        "# Add your code here."
      ],
      "id": "I8H2LnHqAimq"
    },
    {
      "cell_type": "markdown",
      "metadata": {
        "id": "6L3XLBUjAimq"
      },
      "source": [
        "## Question 4: Sorting Results\n",
        "\n",
        "Write a SQL query to list the subway stations in the `nyc_subway_stations` dataset in alphabetical order by their names."
      ],
      "id": "6L3XLBUjAimq"
    },
    {
      "cell_type": "code",
      "execution_count": null,
      "metadata": {
        "id": "RZqwkpcSAimq"
      },
      "outputs": [],
      "source": [
        "# Add your code here."
      ],
      "id": "RZqwkpcSAimq"
    },
    {
      "cell_type": "markdown",
      "metadata": {
        "id": "mcr2TYMhAimq"
      },
      "source": [
        "## Question 5: Unique Values\n",
        "\n",
        "Write a SQL query to find the distinct boroughs represented in the `nyc_subway_stations` dataset."
      ],
      "id": "mcr2TYMhAimq"
    },
    {
      "cell_type": "code",
      "execution_count": null,
      "metadata": {
        "id": "4NPnfGA0Aimq"
      },
      "outputs": [],
      "source": [
        "# Add your code here."
      ],
      "id": "4NPnfGA0Aimq"
    },
    {
      "cell_type": "markdown",
      "metadata": {
        "id": "TAkiEHxnAimq"
      },
      "source": [
        "## Question 6: Counting Rows\n",
        "\n",
        "Write a SQL query to count the number of subway stations in each borough in the `nyc_subway_stations` dataset."
      ],
      "id": "TAkiEHxnAimq"
    },
    {
      "cell_type": "code",
      "execution_count": null,
      "metadata": {
        "id": "8ZNQLH63Aimq"
      },
      "outputs": [],
      "source": [
        "# Add your code here."
      ],
      "id": "8ZNQLH63Aimq"
    },
    {
      "cell_type": "markdown",
      "metadata": {
        "id": "5ae-RTHfAimq"
      },
      "source": [
        "## Question 7: Aggregating Data\n",
        "\n",
        "Write a SQL query to list the number of subway stations in each borough, sorted in descending order by the count."
      ],
      "id": "5ae-RTHfAimq"
    },
    {
      "cell_type": "code",
      "execution_count": null,
      "metadata": {
        "id": "JUiHIxaMAimq"
      },
      "outputs": [],
      "source": [
        "# Add your code here."
      ],
      "id": "JUiHIxaMAimq"
    },
    {
      "cell_type": "markdown",
      "metadata": {
        "id": "mkxnEqOiAimr"
      },
      "source": [
        "## Question 8: Joining Tables\n",
        "\n",
        "Write a SQL query to join the `nyc_subway_stations` and `nyc_neighborhoods` datasets on the borough name, displaying the subway station name and the neighborhood name."
      ],
      "id": "mkxnEqOiAimr"
    },
    {
      "cell_type": "code",
      "execution_count": null,
      "metadata": {
        "id": "Ad6sNjQ-Aimr"
      },
      "outputs": [],
      "source": [
        "# Add your code here."
      ],
      "id": "Ad6sNjQ-Aimr"
    },
    {
      "cell_type": "markdown",
      "metadata": {
        "id": "6J9TzFt5Aimr"
      },
      "source": [
        "## Question 9: String Manipulation\n",
        "\n",
        "Write a SQL query to display the names of subway stations in the `nyc_subway_stations` dataset that contain the word \"St\" in their names."
      ],
      "id": "6J9TzFt5Aimr"
    },
    {
      "cell_type": "code",
      "execution_count": null,
      "metadata": {
        "id": "gL6BqQuoAimr"
      },
      "outputs": [],
      "source": [
        "# Add your code here."
      ],
      "id": "gL6BqQuoAimr"
    },
    {
      "cell_type": "markdown",
      "metadata": {
        "id": "RIYcSRW7Aimr"
      },
      "source": [
        "## Question 10: Filtering with Multiple Conditions\n",
        "\n",
        "Write a SQL query to find all subway stations in the `nyc_subway_stations` dataset that are in the borough of Brooklyn and have routes that include the letter \"R\"."
      ],
      "id": "RIYcSRW7Aimr"
    },
    {
      "cell_type": "code",
      "execution_count": null,
      "metadata": {
        "id": "6V2feYteAimr"
      },
      "outputs": [],
      "source": [
        "# Add your code here."
      ],
      "id": "6V2feYteAimr"
    },
    {
      "cell_type": "markdown",
      "id": "2a78cbfd",
      "metadata": {
        "id": "2a78cbfd"
      },
      "source": [
        "Once you've completed your attempt, you can check your answers [here](https://github.com/oballinger/CASA0025/blob/main/notebooks/W02_lab_solution.ipynb)."
      ]
    }
  ],
  "metadata": {
    "kernelspec": {
      "display_name": "geo",
      "language": "python",
      "name": "python3"
    },
    "language_info": {
      "codemirror_mode": {
        "name": "ipython",
        "version": 3
      },
      "file_extension": ".py",
      "mimetype": "text/x-python",
      "name": "python",
      "nbconvert_exporter": "python",
      "pygments_lexer": "ipython3",
      "version": "undefined.undefined.undefined"
    },
    "colab": {
      "provenance": []
    }
  },
  "nbformat": 4,
  "nbformat_minor": 5
}