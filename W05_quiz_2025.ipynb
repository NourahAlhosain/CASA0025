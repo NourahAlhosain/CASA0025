{
  "cells": [
    {
      "cell_type": "markdown",
      "metadata": {
        "id": "view-in-github",
        "colab_type": "text"
      },
      "source": [
        "<a href=\"https://colab.research.google.com/github/NourahAlhosain/CASA0025/blob/main/W05_quiz_2025.ipynb\" target=\"_parent\"><img src=\"https://colab.research.google.com/assets/colab-badge.svg\" alt=\"Open In Colab\"/></a>"
      ]
    },
    {
      "cell_type": "markdown",
      "id": "0uOOJ-4J1yGS",
      "metadata": {
        "id": "0uOOJ-4J1yGS"
      },
      "source": [
        "# Week 5 Quiz\n",
        "\n",
        "This notebook contains the SQL Quiz for Week 5. Section 1 uses the New York City data we know and love. Section 2 will conduct a spatial damage assessment across the Gaza strip.\n",
        "\n",
        "### INSTRUCTIONS:\n",
        "\n",
        "Run this notebook in Google Colab. The answer to each quesiton will be a number or a string. Input these into the corresponding question on Moodle. You have 90 minutes to attempt the quiz, so if you get stuck on a question, move on.\n",
        "\n",
        "Make sure you run all of the cells of code in order. If you run into serious problems, try clicking on the \"runtime\" tab above and selecting \"restart session and run all\"."
      ]
    },
    {
      "cell_type": "markdown",
      "id": "oV3MzAJb1yGU",
      "metadata": {
        "id": "oV3MzAJb1yGU"
      },
      "source": [
        "# Section 1\n",
        "\n"
      ]
    },
    {
      "cell_type": "markdown",
      "id": "j9Eitay5ol_6",
      "metadata": {
        "id": "j9Eitay5ol_6"
      },
      "source": [
        "This URL: `https://s3.amazonaws.com/s3.cleverelephant.ca/postgis-workshop-2020.zip` points to a .zip file containing shapefiles associated with the NYC data that we've been using in class so far. You can choose how to use sql, either the `con.sql()` syntax or the `%%sql` syntax. Either way, use the code cell below to install and import the necessary packages."
      ]
    },
    {
      "cell_type": "code",
      "execution_count": null,
      "id": "77b72f0d",
      "metadata": {
        "id": "77b72f0d"
      },
      "outputs": [],
      "source": []
    },
    {
      "cell_type": "markdown",
      "id": "418e28a1",
      "metadata": {
        "id": "418e28a1"
      },
      "source": [
        "## Question 1\n",
        "\n",
        "Firslty, please provide the link to your colab notebook in the Moodle quiz using the following steps:\n",
        "\n",
        "1. In the top right corner, click the \"share\" button\n",
        "2. In the popup, click on \"restricted\" and change this to \"anyone with the link\"\n",
        "3. Finally, click \"copy link\", and paste the link into the box for Question 1 on moodle.\n",
        "\n",
        "Once you've done this, download and unzip the data, then create the following tables using the corresponding shapefiles.\n",
        "\n",
        "- nyc_neighborhoods\n",
        "- nyc_census_blocks\n",
        "- nyc_homicides\n",
        "- nyc_streets\n",
        "- nyc_subway_stations"
      ]
    },
    {
      "cell_type": "code",
      "execution_count": null,
      "id": "94c4cff1",
      "metadata": {
        "id": "94c4cff1"
      },
      "outputs": [],
      "source": []
    },
    {
      "cell_type": "markdown",
      "id": "cNYR7ht61yGV",
      "metadata": {
        "id": "cNYR7ht61yGV"
      },
      "source": [
        "## Question 2:\n",
        "What is the longest street in New York? Note, it may be split up into multiple segments! Ignore missing and null values.\n"
      ]
    },
    {
      "cell_type": "code",
      "execution_count": null,
      "id": "h95FJaaD1yGV",
      "metadata": {
        "id": "h95FJaaD1yGV"
      },
      "outputs": [],
      "source": []
    },
    {
      "cell_type": "markdown",
      "id": "BfjA1rkU1yGV",
      "metadata": {
        "id": "BfjA1rkU1yGV"
      },
      "source": [
        "## Question 3:\n",
        "\n",
        "Which borough had the fewest daytime shootings in 2009?"
      ]
    },
    {
      "cell_type": "code",
      "execution_count": null,
      "id": "OMu1B0Nq1yGV",
      "metadata": {
        "id": "OMu1B0Nq1yGV"
      },
      "outputs": [],
      "source": []
    },
    {
      "cell_type": "markdown",
      "id": "ayFuut_v8DIJ",
      "metadata": {
        "id": "ayFuut_v8DIJ"
      },
      "source": [
        "## Question 4:\n",
        "\n",
        "What is the total population of the census blocks served by the L train?"
      ]
    },
    {
      "cell_type": "code",
      "execution_count": null,
      "id": "V8JPo3Ab1yGV",
      "metadata": {
        "id": "V8JPo3Ab1yGV"
      },
      "outputs": [],
      "source": [
        "\n"
      ]
    },
    {
      "cell_type": "markdown",
      "id": "bI-t4ks380wI",
      "metadata": {
        "id": "bI-t4ks380wI"
      },
      "source": [
        "## Question 5\n",
        "\n",
        "which subway station had the largest number of homicides within 1km?"
      ]
    },
    {
      "cell_type": "code",
      "execution_count": null,
      "id": "uOsz1fQO9PIf",
      "metadata": {
        "id": "uOsz1fQO9PIf"
      },
      "outputs": [],
      "source": []
    },
    {
      "cell_type": "markdown",
      "id": "zBfMLOCVBuqP",
      "metadata": {
        "id": "zBfMLOCVBuqP"
      },
      "source": [
        "# Section 2\n",
        "\n",
        "This section explores building damage in the Gaza Strip resulting from the ongoing war. You will conduct a geospatial analysis of building damage using two datasets:\n",
        "\n",
        "1. [Humantiarian Open Street Map](https://www.hotosm.org/projects/gaza-building-footprints-pre-conflict-update-2024/) building footprints for the Gaza Strip\n",
        "  * data: https://storage.googleapis.com/qm2/Gaza_Buildings_2.geojson.zip\n",
        "2. [Damage points](https://unosat.org/products/3984) from the UN Satellite Agency (UNOSAT).\n",
        "  * data: https://storage.googleapis.com/qm2/UNOSAT_GAZA_20240503_2.zip\n",
        "\n",
        "\n",
        "The Coordinate Reference System of these datasets is EPSG:4326; therefore, stock functions like ST_DISTANCE() will yield values in degrees, not meters. Be mindful of this in your analysis, and use the DuckDB spatial functions [documentation](https://duckdb.org/docs/extensions/spatial/functions#st_geomfromtext) to your advantage.\n",
        "\n",
        "\n",
        "First, download and unzip the data, and create two tables: `gaza_buildings`, containing the building footprint data, and `damage_points` containing the UNOSAT damage points. Make sure to set a spatial index on these tables, this will make your queries run much faster!"
      ]
    },
    {
      "cell_type": "code",
      "execution_count": null,
      "id": "S1OUqcmhnRxQ",
      "metadata": {
        "id": "S1OUqcmhnRxQ"
      },
      "outputs": [],
      "source": []
    },
    {
      "cell_type": "markdown",
      "id": "R91M8AllIBHG",
      "metadata": {
        "id": "R91M8AllIBHG"
      },
      "source": [
        "## Question 6\n",
        "\n",
        "Create a table called \"gaza_buildings_damaged\" which is comprised only of building footprints that intersect with a UNOSAT damage point. How many damaged buildings are there in Gaza?"
      ]
    },
    {
      "cell_type": "code",
      "execution_count": null,
      "id": "B5mc7JSMCnbs",
      "metadata": {
        "id": "B5mc7JSMCnbs"
      },
      "outputs": [],
      "source": []
    },
    {
      "cell_type": "markdown",
      "id": "ErOTse1wxPcC",
      "metadata": {
        "id": "ErOTse1wxPcC"
      },
      "source": [
        "## Question 7\n",
        "\n",
        "What is the total area (in square kilometers) of damaged buildings in Gaza? note: there are TWO area functions in duckDB, and only one of them returns answers in meters."
      ]
    },
    {
      "cell_type": "code",
      "execution_count": null,
      "id": "oioDauAk3DEH",
      "metadata": {
        "id": "oioDauAk3DEH"
      },
      "outputs": [],
      "source": []
    },
    {
      "cell_type": "markdown",
      "id": "R4R_j5w2Jk6w",
      "metadata": {
        "id": "R4R_j5w2Jk6w"
      },
      "source": [
        "## Question 8\n",
        "\n",
        "What percentage of hospitals in Gaza have been damaged?\n"
      ]
    },
    {
      "cell_type": "code",
      "execution_count": null,
      "id": "EPhpQNI7GGAI",
      "metadata": {
        "id": "EPhpQNI7GGAI"
      },
      "outputs": [],
      "source": []
    },
    {
      "cell_type": "markdown",
      "id": "SIcc0Qf7Lbfg",
      "metadata": {
        "id": "SIcc0Qf7Lbfg"
      },
      "source": [
        "## Question 9\n",
        "\n",
        "The UNOSAT data contains a column called \"Governorat\" (shapefiles only allow column names of up to 10 characters). Calculate the number of damaged schools in each governorate."
      ]
    },
    {
      "cell_type": "code",
      "execution_count": null,
      "id": "cEvYw6lLL4Hp",
      "metadata": {
        "id": "cEvYw6lLL4Hp"
      },
      "outputs": [],
      "source": []
    },
    {
      "cell_type": "markdown",
      "id": "yRUEI6lbwYgk",
      "metadata": {
        "id": "yRUEI6lbwYgk"
      },
      "source": [
        "## Question 10\n",
        "\n",
        "The \"Dar Al-Shifa Hospital\" was the largest medical complex in the gaza strip. Find the hospital's building footprint, and calculate the proportion of damaged buildings within 1 kilometer."
      ]
    },
    {
      "cell_type": "code",
      "execution_count": null,
      "id": "FKmTslPM1zIx",
      "metadata": {
        "id": "FKmTslPM1zIx"
      },
      "outputs": [],
      "source": []
    }
  ],
  "metadata": {
    "colab": {
      "provenance": [],
      "include_colab_link": true
    },
    "kernelspec": {
      "display_name": "geo",
      "language": "python",
      "name": "python3"
    },
    "language_info": {
      "codemirror_mode": {
        "name": "ipython",
        "version": 3
      },
      "file_extension": ".py",
      "mimetype": "text/x-python",
      "name": "python",
      "nbconvert_exporter": "python",
      "pygments_lexer": "ipython3",
      "version": "3.9.20"
    }
  },
  "nbformat": 4,
  "nbformat_minor": 5
}