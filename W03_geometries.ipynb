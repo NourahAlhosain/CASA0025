{
  "cells": [
    {
      "cell_type": "markdown",
      "metadata": {
        "id": "_s6xzWjUAqPD"
      },
      "source": [
        "# Working with Geometries\n",
        "\n",
        "## Introduction\n",
        "\n",
        "This notebook demonstrates how to work with geometries in DuckDB.\n",
        "\n",
        "## Installation\n",
        "\n",
        "Uncomment the following cell to install the required packages if needed."
      ],
      "id": "_s6xzWjUAqPD"
    },
    {
      "cell_type": "code",
      "execution_count": null,
      "metadata": {
        "id": "bGIev_DdAqPE"
      },
      "outputs": [],
      "source": [
        "# %pip install duckdb leafmap"
      ],
      "id": "bGIev_DdAqPE"
    },
    {
      "cell_type": "markdown",
      "metadata": {
        "id": "5yYvlEvWAqPF"
      },
      "source": [
        "## Library Import and Configuration"
      ],
      "id": "5yYvlEvWAqPF"
    },
    {
      "cell_type": "code",
      "execution_count": null,
      "metadata": {
        "id": "HAZL7YmdAqPF"
      },
      "outputs": [],
      "source": [
        "import duckdb\n",
        "import leafmap"
      ],
      "id": "HAZL7YmdAqPF"
    },
    {
      "cell_type": "markdown",
      "metadata": {
        "id": "MCl49ODNAqPG"
      },
      "source": [
        "## Sample Data\n",
        "\n",
        "The datasets in the database are in NAD83 / UTM zone 18N projection, EPSG:26918."
      ],
      "id": "MCl49ODNAqPG"
    },
    {
      "cell_type": "code",
      "execution_count": null,
      "metadata": {
        "id": "2WLE-0jUAqPG"
      },
      "outputs": [],
      "source": [
        "url = \"https://open.gishub.org/data/duckdb/nyc_data.db.zip\"\n",
        "leafmap.download_file(url, unzip=True)"
      ],
      "id": "2WLE-0jUAqPG"
    },
    {
      "cell_type": "markdown",
      "metadata": {
        "id": "5d7z2xo-AqPG"
      },
      "source": [
        "## Connecting to DuckDB\n",
        "\n",
        "Connect jupysql to DuckDB using a SQLAlchemy-style connection string. You may either connect to an in memory DuckDB, or a file backed db."
      ],
      "id": "5d7z2xo-AqPG"
    },
    {
      "cell_type": "code",
      "execution_count": null,
      "metadata": {
        "id": "FsIHsBSvAqPG"
      },
      "outputs": [],
      "source": [
        "con = duckdb.connect(\"nyc_data.db\")"
      ],
      "id": "FsIHsBSvAqPG"
    },
    {
      "cell_type": "code",
      "execution_count": null,
      "metadata": {
        "id": "9CvhnKMDAqPG"
      },
      "outputs": [],
      "source": [
        "con.install_extension(\"spatial\")\n",
        "con.load_extension(\"spatial\")"
      ],
      "id": "9CvhnKMDAqPG"
    },
    {
      "cell_type": "code",
      "execution_count": null,
      "metadata": {
        "id": "QCJphC1jAqPG"
      },
      "outputs": [],
      "source": [
        "con.sql(\"SHOW TABLES;\")"
      ],
      "id": "QCJphC1jAqPG"
    },
    {
      "cell_type": "markdown",
      "metadata": {
        "id": "jMVrpwo_AqPG"
      },
      "source": [
        "## Creating samples"
      ],
      "id": "jMVrpwo_AqPG"
    },
    {
      "cell_type": "code",
      "execution_count": null,
      "metadata": {
        "id": "wvvx6x4iAqPH"
      },
      "outputs": [],
      "source": [
        "con.sql(\"\"\"\n",
        "\n",
        "CREATE or REPLACE TABLE samples (name VARCHAR, geom GEOMETRY);\n",
        "\n",
        "INSERT INTO samples VALUES\n",
        "  ('Point', ST_GeomFromText('POINT(-100 40)')),\n",
        "  ('Linestring', ST_GeomFromText('LINESTRING(0 0, 1 1, 2 1, 2 2)')),\n",
        "  ('Polygon', ST_GeomFromText('POLYGON((0 0, 1 0, 1 1, 0 1, 0 0))')),\n",
        "  ('PolygonWithHole', ST_GeomFromText('POLYGON((0 0, 10 0, 10 10, 0 10, 0 0),(1 1, 1 2, 2 2, 2 1, 1 1))')),\n",
        "  ('Collection', ST_GeomFromText('GEOMETRYCOLLECTION(POINT(2 0),POLYGON((0 0, 1 0, 1 1, 0 1, 0 0)))'));\n",
        "\n",
        "SELECT * FROM samples;\n",
        "\n",
        "  \"\"\")"
      ],
      "id": "wvvx6x4iAqPH"
    },
    {
      "cell_type": "code",
      "execution_count": null,
      "metadata": {
        "id": "CrZjaUQlAqPH"
      },
      "outputs": [],
      "source": [
        "con.sql(\"SELECT name, ST_AsText(geom) AS geometry FROM samples;\")"
      ],
      "id": "CrZjaUQlAqPH"
    },
    {
      "cell_type": "code",
      "execution_count": null,
      "metadata": {
        "id": "XkYYGOaPAqPH"
      },
      "outputs": [],
      "source": [
        "con.sql(\"\"\"\n",
        "\n",
        "COPY samples TO 'samples.geojson' (FORMAT GDAL, DRIVER GeoJSON);\n",
        "\n",
        "\"\"\")"
      ],
      "id": "XkYYGOaPAqPH"
    },
    {
      "cell_type": "markdown",
      "metadata": {
        "id": "MxVv7l03AqPH"
      },
      "source": [
        "## Points\n",
        "\n",
        "![](https://postgis.net/workshops/postgis-intro/_images/points.png)\n",
        "\n",
        "A spatial point represents a single location on the Earth. This point is represented by a single coordinate (including either 2-, 3- or 4-dimensions). Points are used to represent objects when the exact details, such as shape and size, are not important at the target scale. For example, cities on a map of the world can be described as points, while a map of a single state might represent cities as polygons.\n"
      ],
      "id": "MxVv7l03AqPH"
    },
    {
      "cell_type": "code",
      "execution_count": null,
      "metadata": {
        "id": "hEaEK6R9AqPH"
      },
      "outputs": [],
      "source": [
        "con.sql(\"\"\"\n",
        "\n",
        "SELECT ST_AsText(geom)\n",
        "  FROM samples\n",
        "  WHERE name = 'Point';\n",
        "\n",
        "\"\"\")"
      ],
      "id": "hEaEK6R9AqPH"
    },
    {
      "cell_type": "markdown",
      "metadata": {
        "id": "PrsmBFn5AqPH"
      },
      "source": [
        "Some of the specific spatial functions for working with points are:\n",
        "\n",
        "- **ST_X(geom)** returns the X ordinate\n",
        "- **ST_Y(geom)** returns the Y ordinate\n",
        "\n",
        "So, we can read the ordinates from a point like this:"
      ],
      "id": "PrsmBFn5AqPH"
    },
    {
      "cell_type": "code",
      "execution_count": null,
      "metadata": {
        "id": "ABINc5cGAqPH"
      },
      "outputs": [],
      "source": [
        "con.sql(\"\"\"\n",
        "\n",
        "SELECT ST_X(geom), ST_Y(geom)\n",
        "  FROM samples\n",
        "  WHERE name = 'Point';\n",
        "\n",
        "\"\"\")"
      ],
      "id": "ABINc5cGAqPH"
    },
    {
      "cell_type": "code",
      "execution_count": null,
      "metadata": {
        "id": "Bxgu6fm_AqPH"
      },
      "outputs": [],
      "source": [
        "con.sql(\"\"\"\n",
        "\n",
        "SELECT * FROM nyc_subway_stations\n",
        "\n",
        "\"\"\")"
      ],
      "id": "Bxgu6fm_AqPH"
    },
    {
      "cell_type": "code",
      "execution_count": null,
      "metadata": {
        "id": "aqaKb1o6AqPI"
      },
      "outputs": [],
      "source": [
        "con.sql(\"\"\"\n",
        "\n",
        "SELECT name, ST_AsText(geom)\n",
        "  FROM nyc_subway_stations\n",
        "  LIMIT 10;\n",
        "\n",
        "\"\"\")"
      ],
      "id": "aqaKb1o6AqPI"
    },
    {
      "cell_type": "markdown",
      "metadata": {
        "id": "bVnZ9ASMAqPI"
      },
      "source": [
        "## Linestrings\n",
        "\n",
        "![](https://postgis.net/workshops/postgis-intro/_images/lines.png)\n",
        "\n",
        "\n",
        "A **linestring** is a path between locations. It takes the form of an\n",
        "ordered series of two or more points. Roads and rivers are typically\n",
        "represented as linestrings. A linestring is said to be **closed** if it\n",
        "starts and ends on the same point. It is said to be **simple** if it\n",
        "does not cross or touch itself (except at its endpoints if it is\n",
        "closed). A linestring can be both **closed** and **simple**.\n",
        "\n",
        "The street network for New York (`nyc_streets`) was loaded earlier in\n",
        "the workshop. This dataset contains details such as name, and type. A\n",
        "single real world street may consist of many linestrings, each\n",
        "representing a segment of road with different attributes.\n",
        "\n",
        "The following SQL query will return the geometry associated with one\n",
        "linestring (in the `ST_AsText` column)."
      ],
      "id": "bVnZ9ASMAqPI"
    },
    {
      "cell_type": "code",
      "execution_count": null,
      "metadata": {
        "id": "P7gpwRBPAqPI"
      },
      "outputs": [],
      "source": [
        "con.sql(\"\"\"\n",
        "\n",
        "SELECT ST_AsText(geom)\n",
        "  FROM samples\n",
        "  WHERE name = 'Linestring';\n",
        "\n",
        "\"\"\")"
      ],
      "id": "P7gpwRBPAqPI"
    },
    {
      "cell_type": "markdown",
      "metadata": {
        "id": "jxkmsNqHAqPI"
      },
      "source": [
        "Some of the specific spatial functions for working with linestrings are:\n",
        "\n",
        "-   `ST_Length(geom)` returns the length of the linestring\n",
        "-   `ST_StartPoint(geom)` returns the first coordinate as a point\n",
        "-   `ST_EndPoint(geom)` returns the last coordinate as a point\n",
        "-   `ST_NPoints(geom)` returns the number of coordinates in the\n",
        "    linestring\n",
        "\n",
        "So, the length of our linestring is:"
      ],
      "id": "jxkmsNqHAqPI"
    },
    {
      "cell_type": "code",
      "execution_count": null,
      "metadata": {
        "id": "gVkIoBrDAqPI"
      },
      "outputs": [],
      "source": [
        "con.sql(\"\"\"\n",
        "\n",
        "SELECT ST_Length(geom)\n",
        "  FROM samples\n",
        "  WHERE name = 'Linestring';\n",
        "\n",
        "\"\"\")"
      ],
      "id": "gVkIoBrDAqPI"
    },
    {
      "cell_type": "markdown",
      "metadata": {
        "id": "s76utCoiAqPI"
      },
      "source": [
        "## Polygons"
      ],
      "id": "s76utCoiAqPI"
    },
    {
      "cell_type": "markdown",
      "metadata": {
        "id": "EwjWCbULAqPI"
      },
      "source": [
        "![](https://postgis.net/workshops/postgis-intro/_images/polygons.png)\n",
        "\n",
        "A polygon is a representation of an area. The outer boundary of the\n",
        "polygon is represented by a ring. This ring is a linestring that is both\n",
        "closed and simple as defined above. Holes within the polygon are also\n",
        "represented by rings.\n",
        "\n",
        "Polygons are used to represent objects whose size and shape are\n",
        "important. City limits, parks, building footprints or bodies of water\n",
        "are all commonly represented as polygons when the scale is sufficiently\n",
        "high to see their area. Roads and rivers can sometimes be represented as\n",
        "polygons.\n",
        "\n",
        "The following SQL query will return the geometry associated with one\n",
        "polygon (in the `ST_AsText` column)."
      ],
      "id": "EwjWCbULAqPI"
    },
    {
      "cell_type": "code",
      "execution_count": null,
      "metadata": {
        "id": "2kBXTVr0AqPI"
      },
      "outputs": [],
      "source": [
        "con.sql(\"\"\"\n",
        "\n",
        "SELECT ST_AsText(geom)\n",
        "  FROM samples\n",
        "  WHERE name LIKE 'Polygon%';\n",
        "\n",
        "\"\"\")"
      ],
      "id": "2kBXTVr0AqPI"
    },
    {
      "cell_type": "markdown",
      "metadata": {
        "id": "UP3wvMAdAqPI"
      },
      "source": [
        "Some of the specific spatial functions for working with polygons are:\n",
        "\n",
        "-   `ST_Area(geom)` returns the area of the polygons\n",
        "-   `ST_NRings(geom)` returns the number of rings (usually 1, more\n",
        "    of there are holes)\n",
        "-   `ST_ExteriorRing(geom)` returns the outer ring as a linestring\n",
        "-   `ST_InteriorRingN(geometry,n)` returns a specified interior ring as\n",
        "    a linestring\n",
        "-   `ST_Perimeter(geom)` returns the length of all the rings\n",
        "\n",
        "We can calculate the area of our polygons using the area function:"
      ],
      "id": "UP3wvMAdAqPI"
    },
    {
      "cell_type": "code",
      "execution_count": null,
      "metadata": {
        "id": "dPBObvh7AqPI"
      },
      "outputs": [],
      "source": [
        "con.sql(\"\"\"\n",
        "\n",
        "SELECT name, ST_Area(geom)\n",
        "  FROM samples\n",
        "  WHERE name LIKE 'Polygon%';\n",
        "\n",
        "\"\"\")"
      ],
      "id": "dPBObvh7AqPI"
    },
    {
      "cell_type": "markdown",
      "metadata": {
        "id": "ghN6qgcvAqPI"
      },
      "source": [
        "## Collections\n",
        "\n",
        "There are four collection types, which group multiple simple samples\n",
        "into sets.\n",
        "\n",
        "-   **MultiPoint**, a collection of points\n",
        "-   **MultiLineString**, a collection of linestrings\n",
        "-   **MultiPolygon**, a collection of polygons\n",
        "-   **GeometryCollection**, a heterogeneous collection of any geometry\n",
        "    (including other collections)\n",
        "\n",
        "Collections are another concept that shows up in GIS software more than\n",
        "in generic graphics software. They are useful for directly modeling real\n",
        "world objects as spatial objects. For example, how to model a lot that\n",
        "is split by a right-of-way? As a **MultiPolygon**, with a part on either\n",
        "side of the right-of-way.\n",
        "\n",
        "Our example collection contains a polygon and a point:"
      ],
      "id": "ghN6qgcvAqPI"
    },
    {
      "cell_type": "code",
      "execution_count": null,
      "metadata": {
        "id": "68pmgwo3AqPI"
      },
      "outputs": [],
      "source": [
        "con.sql(\"\"\"\n",
        "\n",
        "SELECT name, ST_AsText(geom)\n",
        "  FROM samples\n",
        "  WHERE name = 'Collection';\n",
        "\n",
        "\"\"\")"
      ],
      "id": "68pmgwo3AqPI"
    },
    {
      "cell_type": "markdown",
      "metadata": {
        "id": "HK-N7VuGAqPJ"
      },
      "source": [
        "## Data Visualization"
      ],
      "id": "HK-N7VuGAqPJ"
    },
    {
      "cell_type": "code",
      "execution_count": null,
      "metadata": {
        "id": "CFhcIDEbAqPJ"
      },
      "outputs": [],
      "source": [
        "con.sql(\"SHOW TABLES;\")"
      ],
      "id": "CFhcIDEbAqPJ"
    },
    {
      "cell_type": "code",
      "execution_count": null,
      "metadata": {
        "id": "slID_p9JAqPJ"
      },
      "outputs": [],
      "source": [
        "subway_stations_df = con.sql(\"SELECT * EXCLUDE geom, ST_AsText(geom) as geometry FROM nyc_subway_stations\").df()\n",
        "subway_stations_df.head()"
      ],
      "id": "slID_p9JAqPJ"
    },
    {
      "cell_type": "code",
      "execution_count": null,
      "metadata": {
        "id": "pcOaDfEuAqPJ"
      },
      "outputs": [],
      "source": [
        "subway_stations_gdf = leafmap.df_to_gdf(subway_stations_df, src_crs=\"EPSG:26918\", dst_crs=\"EPSG:4326\")\n",
        "subway_stations_gdf.head()"
      ],
      "id": "pcOaDfEuAqPJ"
    },
    {
      "cell_type": "code",
      "execution_count": null,
      "metadata": {
        "id": "yejYMKWkAqPJ"
      },
      "outputs": [],
      "source": [
        "subway_stations_gdf.explore()"
      ],
      "id": "yejYMKWkAqPJ"
    },
    {
      "cell_type": "code",
      "execution_count": null,
      "metadata": {
        "id": "tO24N5RMAqPJ"
      },
      "outputs": [],
      "source": [
        "nyc_streets_df = con.sql(\"SELECT * EXCLUDE geom, ST_AsText(geom) as geometry FROM nyc_streets\").df()\n",
        "nyc_streets_df.head()"
      ],
      "id": "tO24N5RMAqPJ"
    },
    {
      "cell_type": "code",
      "execution_count": null,
      "metadata": {
        "id": "15Gposp8AqPJ"
      },
      "outputs": [],
      "source": [
        "nyc_streets_gdf = leafmap.df_to_gdf(nyc_streets_df, src_crs=\"EPSG:26918\", dst_crs=\"EPSG:4326\")\n",
        "nyc_streets_gdf.head()"
      ],
      "id": "15Gposp8AqPJ"
    },
    {
      "cell_type": "code",
      "execution_count": null,
      "metadata": {
        "id": "gUx4oSRMAqPJ"
      },
      "outputs": [],
      "source": [
        "nyc_streets_gdf.explore()"
      ],
      "id": "gUx4oSRMAqPJ"
    }
  ],
  "metadata": {
    "celltoolbar": "Tags",
    "hide_input": false,
    "kernelspec": {
      "display_name": "Python 3",
      "language": "python",
      "name": "python3"
    },
    "language_info": {
      "codemirror_mode": {
        "name": "ipython",
        "version": 3
      },
      "file_extension": ".py",
      "mimetype": "text/x-python",
      "name": "python",
      "nbconvert_exporter": "python",
      "pygments_lexer": "ipython3",
      "version": "3.11.6"
    },
    "toc": {
      "base_numbering": 1,
      "nav_menu": {},
      "number_sections": true,
      "sideBar": true,
      "skip_h1_title": false,
      "title_cell": "Table of Contents",
      "title_sidebar": "Contents",
      "toc_cell": false,
      "toc_position": {},
      "toc_section_display": true,
      "toc_window_display": false
    },
    "varInspector": {
      "cols": {
        "lenName": 16,
        "lenType": 16,
        "lenVar": 40
      },
      "kernels_config": {
        "python": {
          "delete_cmd_postfix": "",
          "delete_cmd_prefix": "del ",
          "library": "var_list.py",
          "varRefreshCmd": "print(var_dic_list())"
        },
        "r": {
          "delete_cmd_postfix": ") ",
          "delete_cmd_prefix": "rm(",
          "library": "var_list.r",
          "varRefreshCmd": "cat(var_dic_list()) "
        }
      },
      "types_to_exclude": [
        "module",
        "function",
        "builtin_function_or_method",
        "instance",
        "_Feature"
      ],
      "window_display": false
    },
    "colab": {
      "provenance": []
    }
  },
  "nbformat": 4,
  "nbformat_minor": 5
}