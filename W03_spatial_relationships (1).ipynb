{
  "cells": [
    {
      "cell_type": "markdown",
      "metadata": {
        "id": "l29rAOL5Aq0l"
      },
      "source": [
        "# Spatial Relationships\n",
        "\n",
        "## Introduction\n",
        "\n",
        "This notebook demonstrates how to analyze spatial relationships between features in a dataset.\n",
        "\n",
        "## Installation\n",
        "\n",
        "Uncomment the following cell to install the required packages if needed."
      ],
      "id": "l29rAOL5Aq0l"
    },
    {
      "cell_type": "code",
      "execution_count": null,
      "metadata": {
        "id": "Vc_aLGnRAq0l"
      },
      "outputs": [],
      "source": [
        "# %pip install duckdb leafmap"
      ],
      "id": "Vc_aLGnRAq0l"
    },
    {
      "cell_type": "markdown",
      "metadata": {
        "id": "TaLMxsSOAq0m"
      },
      "source": [
        "## Library Import and Configuration"
      ],
      "id": "TaLMxsSOAq0m"
    },
    {
      "cell_type": "code",
      "execution_count": null,
      "metadata": {
        "id": "btXCZKfhAq0m"
      },
      "outputs": [],
      "source": [
        "import duckdb\n",
        "import leafmap"
      ],
      "id": "btXCZKfhAq0m"
    },
    {
      "cell_type": "markdown",
      "metadata": {
        "id": "3ax_jzowAq0m"
      },
      "source": [
        "## Sample Data\n",
        "\n",
        "The datasets in the database are in NAD83 / UTM zone 18N projection, EPSG:26918."
      ],
      "id": "3ax_jzowAq0m"
    },
    {
      "cell_type": "code",
      "execution_count": null,
      "metadata": {
        "id": "8t_JedXpAq0m",
        "outputId": "3c587ad2-7dae-419f-ccce-cd6a325692d4"
      },
      "outputs": [
        {
          "name": "stdout",
          "output_type": "stream",
          "text": [
            "nyc_data.db.zip already exists. Skip downloading. Set overwrite=True to overwrite.\n"
          ]
        },
        {
          "data": {
            "text/plain": [
              "'/media/hdd/Dropbox/git/geog-414/book/duckdb/nyc_data.db.zip'"
            ]
          },
          "execution_count": 3,
          "metadata": {},
          "output_type": "execute_result"
        }
      ],
      "source": [
        "url = \"https://open.gishub.org/data/duckdb/nyc_data.db.zip\"\n",
        "leafmap.download_file(url, unzip=True)"
      ],
      "id": "8t_JedXpAq0m"
    },
    {
      "cell_type": "markdown",
      "metadata": {
        "id": "cQDmCX76Aq0n"
      },
      "source": [
        "## Connecting to DuckDB\n",
        "\n",
        "Connect jupysql to DuckDB using a SQLAlchemy-style connection string. You may either connect to an in memory DuckDB, or a file backed db."
      ],
      "id": "cQDmCX76Aq0n"
    },
    {
      "cell_type": "code",
      "execution_count": null,
      "metadata": {
        "id": "ymx7-cJqAq0n"
      },
      "outputs": [],
      "source": [
        "con = duckdb.connect('nyc_data.db')"
      ],
      "id": "ymx7-cJqAq0n"
    },
    {
      "cell_type": "code",
      "execution_count": null,
      "metadata": {
        "id": "8Tsme8uzAq0n"
      },
      "outputs": [],
      "source": [
        "con.install_extension('spatial')\n",
        "con.load_extension('spatial')"
      ],
      "id": "8Tsme8uzAq0n"
    },
    {
      "cell_type": "code",
      "execution_count": null,
      "metadata": {
        "id": "9DxW8tZDAq0n",
        "outputId": "17705734-629e-4e92-accd-85cc586886c2"
      },
      "outputs": [
        {
          "data": {
            "text/plain": [
              "┌─────────────────────┐\n",
              "│        name         │\n",
              "│       varchar       │\n",
              "├─────────────────────┤\n",
              "│ nyc_census_blocks   │\n",
              "│ nyc_homicides       │\n",
              "│ nyc_neighborhoods   │\n",
              "│ nyc_streets         │\n",
              "│ nyc_subway_stations │\n",
              "│ samples             │\n",
              "└─────────────────────┘"
            ]
          },
          "execution_count": 6,
          "metadata": {},
          "output_type": "execute_result"
        }
      ],
      "source": [
        "con.sql(\"SHOW TABLES;\")"
      ],
      "id": "9DxW8tZDAq0n"
    },
    {
      "cell_type": "code",
      "execution_count": null,
      "metadata": {
        "scrolled": false,
        "id": "XhLp78DMAq0n",
        "outputId": "81994763-ba6c-4b3a-ded8-d14a44bd71e9"
      },
      "outputs": [
        {
          "data": {
            "text/plain": [
              "┌──────────┬────────┬──────────────┬─────────────────┬───┬─────────┬─────────┬─────────┬──────────────────────┐\n",
              "│ OBJECTID │   ID   │     NAME     │    ALT_NAME     │ … │  COLOR  │ EXPRESS │ CLOSED  │         geom         │\n",
              "│  double  │ double │   varchar    │     varchar     │   │ varchar │ varchar │ varchar │       geometry       │\n",
              "├──────────┼────────┼──────────────┼─────────────────┼───┼─────────┼─────────┼─────────┼──────────────────────┤\n",
              "│      1.0 │  376.0 │ Cortlandt St │ NULL            │ … │ YELLOW  │ NULL    │ NULL    │ POINT (583521.8544…  │\n",
              "│      2.0 │    2.0 │ Rector St    │ NULL            │ … │ RED     │ NULL    │ NULL    │ POINT (583324.4866…  │\n",
              "│      3.0 │    1.0 │ South Ferry  │ NULL            │ … │ RED     │ NULL    │ NULL    │ POINT (583304.1823…  │\n",
              "│      4.0 │  125.0 │ 138th St     │ Grand Concourse │ … │ GREEN   │ NULL    │ NULL    │ POINT (590250.1059…  │\n",
              "│      5.0 │  126.0 │ 149th St     │ Grand Concourse │ … │ GREEN   │ express │ NULL    │ POINT (590454.7399…  │\n",
              "├──────────┴────────┴──────────────┴─────────────────┴───┴─────────┴─────────┴─────────┴──────────────────────┤\n",
              "│ 5 rows                                                                                 15 columns (8 shown) │\n",
              "└─────────────────────────────────────────────────────────────────────────────────────────────────────────────┘"
            ]
          },
          "execution_count": 7,
          "metadata": {},
          "output_type": "execute_result"
        }
      ],
      "source": [
        "con.sql(\"SELECT * from nyc_subway_stations LIMIT 5\")"
      ],
      "id": "XhLp78DMAq0n"
    },
    {
      "cell_type": "markdown",
      "metadata": {
        "id": "-T_cencBAq0n"
      },
      "source": [
        "## Spatial Relationships\n",
        "\n",
        "So far we have only used spatial functions that measure (`ST_Area`,\n",
        "`ST_Length`), serialize (`ST_GeomFromText`) or deserialize (`ST_AsGML`)\n",
        "geometries. What these functions have in common is that they only work\n",
        "on one geometry at a time.\n",
        "\n",
        "Spatial databases are powerful because they not only store geometry,\n",
        "they also have the ability to compare *relationships between\n",
        "geometries*.\n",
        "\n",
        "Questions like \"Which are the closest bike racks to a park?\" or \"Where\n",
        "are the intersections of subway lines and streets?\" can only be answered\n",
        "by comparing geometries representing the bike racks, streets, and subway\n",
        "lines.\n",
        "\n",
        "The OGC standard defines the following set of methods to compare\n",
        "geometries."
      ],
      "id": "-T_cencBAq0n"
    },
    {
      "cell_type": "markdown",
      "metadata": {
        "id": "govFbGrmAq0n"
      },
      "source": [
        "## ST_Equals\n",
        "\n",
        "`ST_Equals(geometry A, geometry B)`tests the spatial equality of two geometries.\n",
        "\n",
        "![](https://postgis.net/workshops/postgis-intro/_images/st_equals.png)\n",
        "\n",
        "ST_Equals returns TRUE if two geometries of the same type have identical\n",
        "x,y coordinate values, i.e. if the second shape is equal (identical) to\n",
        "the first shape.\n",
        "\n",
        "First, let\\'s retrieve a representation of a point from our\n",
        "`nyc_subway_stations` table. We\\'ll take just the entry for \\'Broad\n",
        "St\\'."
      ],
      "id": "govFbGrmAq0n"
    },
    {
      "cell_type": "code",
      "execution_count": null,
      "metadata": {
        "id": "jll7Jk6DAq0n",
        "outputId": "ca72541f-26e2-4029-e957-f7ab5112648e"
      },
      "outputs": [
        {
          "data": {
            "text/plain": [
              "┌──────────┬─────────────────────────────────────────────┬─────────────────────────────────────────────┐\n",
              "│   NAME   │                    geom                     │               st_astext(geom)               │\n",
              "│ varchar  │                  geometry                   │                   varchar                   │\n",
              "├──────────┼─────────────────────────────────────────────┼─────────────────────────────────────────────┤\n",
              "│ Broad St │ POINT (583571.9059213118 4506714.341192182) │ POINT (583571.9059213118 4506714.341192182) │\n",
              "└──────────┴─────────────────────────────────────────────┴─────────────────────────────────────────────┘"
            ]
          },
          "execution_count": 8,
          "metadata": {},
          "output_type": "execute_result"
        }
      ],
      "source": [
        "con.sql(\"\"\"\n",
        "SELECT name, geom, ST_AsText(geom)\n",
        "FROM nyc_subway_stations\n",
        "WHERE name = 'Broad St';\n",
        "\"\"\")"
      ],
      "id": "jll7Jk6DAq0n"
    },
    {
      "cell_type": "markdown",
      "metadata": {
        "id": "S-MGm9N9Aq0n"
      },
      "source": [
        "Then, plug the geometry representation back into an\n",
        "`ST_Equals` test:"
      ],
      "id": "S-MGm9N9Aq0n"
    },
    {
      "cell_type": "code",
      "execution_count": null,
      "metadata": {
        "id": "to0FSguvAq0n",
        "outputId": "9f101bd5-f5e8-44e9-dfe4-dd9798418199"
      },
      "outputs": [
        {
          "data": {
            "text/plain": [
              "┌──────────┐\n",
              "│   NAME   │\n",
              "│ varchar  │\n",
              "├──────────┤\n",
              "│ Broad St │\n",
              "└──────────┘"
            ]
          },
          "execution_count": 9,
          "metadata": {},
          "output_type": "execute_result"
        }
      ],
      "source": [
        "con.sql(\"\"\"\n",
        "SELECT name\n",
        "FROM nyc_subway_stations\n",
        "WHERE ST_Equals(geom, ST_GeomFromText('POINT (583571.9059213118 4506714.341192182)'));\n",
        "\"\"\")"
      ],
      "id": "to0FSguvAq0n"
    },
    {
      "cell_type": "markdown",
      "metadata": {
        "id": "9ITO2u9GAq0n"
      },
      "source": [
        "## ST_Intersects, ST_Disjoint, ST_Crosses and ST_Overlaps\n",
        "\n",
        "`ST_Intersects`,\n",
        "`ST_Crosses`, and\n",
        "`ST_Overlaps` test whether the\n",
        "interiors of the geometries intersect.\n",
        "\n",
        "![](https://postgis.net/workshops/postgis-intro/_images/st_intersects.png)\n",
        "\n",
        "`ST_Intersects(geometry A, geometry B)` returns t (TRUE) if the two shapes have any space in\n",
        "common, i.e., if their boundaries or interiors intersect.\n",
        "\n",
        "![](https://postgis.net/workshops/postgis-intro/_images/st_disjoint.png)\n",
        "\n",
        "The opposite of ST_Intersects is\n",
        "`ST_Disjoint(geometry A , geometry B)`. If two geometries are disjoint, they do not intersect,\n",
        "and vice-versa. In fact, it is often more efficient to test \\\"not\n",
        "intersects\\\" than to test \\\"disjoint\\\" because the intersects tests can\n",
        "be spatially indexed, while the disjoint test cannot.\n",
        "\n",
        "![](https://postgis.net/workshops/postgis-intro/_images/st_crosses.png)\n",
        "\n",
        "For multipoint/polygon, multipoint/linestring, linestring/linestring,\n",
        "linestring/polygon, and linestring/multipolygon comparisons,\n",
        "`ST_Crosses(geometry A, geometry B)`\n",
        "returns t (TRUE) if the intersection results in a geometry whose\n",
        "dimension is one less than the maximum dimension of the two source\n",
        "geometries and the intersection set is interior to both source\n",
        "geometries.\n",
        "\n",
        "![](https://postgis.net/workshops/postgis-intro/_images/st_overlaps.png)\n",
        "\n",
        "`ST_Overlaps(geometry A, geometry B)`\n",
        "compares two geometries of the same dimension and returns TRUE if their\n",
        "intersection set results in a geometry different from both but of the\n",
        "same dimension.\n",
        "\n",
        "Let\\'s take our Broad Street subway station and determine its\n",
        "neighborhood using the `ST_Intersects`\n",
        "function:"
      ],
      "id": "9ITO2u9GAq0n"
    },
    {
      "cell_type": "code",
      "execution_count": null,
      "metadata": {
        "id": "cxRQ9bovAq0n",
        "outputId": "b42d048e-1034-4900-a37b-1f51dc4fd49d"
      },
      "outputs": [
        {
          "data": {
            "text/plain": [
              "┌──────────┬─────────────────────────────────────────────┐\n",
              "│   NAME   │               st_astext(geom)               │\n",
              "│ varchar  │                   varchar                   │\n",
              "├──────────┼─────────────────────────────────────────────┤\n",
              "│ Broad St │ POINT (583571.9059213118 4506714.341192182) │\n",
              "└──────────┴─────────────────────────────────────────────┘"
            ]
          },
          "execution_count": 10,
          "metadata": {},
          "output_type": "execute_result"
        }
      ],
      "source": [
        "con.sql(\"\"\"\n",
        "SELECT name, ST_AsText(geom)\n",
        "FROM nyc_subway_stations\n",
        "WHERE name = 'Broad St';\n",
        "\"\"\")"
      ],
      "id": "cxRQ9bovAq0n"
    },
    {
      "cell_type": "code",
      "execution_count": null,
      "metadata": {
        "id": "d5_dc-nvAq0o",
        "outputId": "cda2d503-9293-4394-e73c-0b71d46a12bb"
      },
      "outputs": [
        {
          "data": {
            "text/plain": [
              "┌───────────┬──────────────────────┬───────────────────────────────────────────────────────────────────────────────────┐\n",
              "│ BORONAME  │         NAME         │                                       geom                                        │\n",
              "│  varchar  │       varchar        │                                     geometry                                      │\n",
              "├───────────┼──────────────────────┼───────────────────────────────────────────────────────────────────────────────────┤\n",
              "│ Brooklyn  │ Bensonhurst          │ MULTIPOLYGON (((582771.4257198056 4495167.427365481, 584651.2943549604 4497541.…  │\n",
              "│ Manhattan │ East Village         │ MULTIPOLYGON (((585508.7534890148 4509691.267208001, 586826.3570590394 4508984.…  │\n",
              "│ Manhattan │ West Village         │ MULTIPOLYGON (((583263.2776595836 4509242.626023987, 583276.8199068634 4509378.…  │\n",
              "│ The Bronx │ Throggs Neck         │ MULTIPOLYGON (((597640.0090688139 4520272.719938631, 597647.7457808304 4520617.…  │\n",
              "│ The Bronx │ Wakefield-Williams…  │ MULTIPOLYGON (((595285.2053417757 4525938.79838847, 595348.5452399419 4526158.7…  │\n",
              "└───────────┴──────────────────────┴───────────────────────────────────────────────────────────────────────────────────┘"
            ]
          },
          "execution_count": 11,
          "metadata": {},
          "output_type": "execute_result"
        }
      ],
      "source": [
        "con.sql(\"FROM nyc_neighborhoods LIMIT 5\")"
      ],
      "id": "d5_dc-nvAq0o"
    },
    {
      "cell_type": "code",
      "execution_count": null,
      "metadata": {
        "id": "DeHTYIQ_Aq0o",
        "outputId": "27e24b47-9065-4849-98fa-1ff993eacf18"
      },
      "outputs": [
        {
          "data": {
            "text/plain": [
              "┌────────────────────┬───────────┐\n",
              "│        NAME        │ BORONAME  │\n",
              "│      varchar       │  varchar  │\n",
              "├────────────────────┼───────────┤\n",
              "│ Financial District │ Manhattan │\n",
              "└────────────────────┴───────────┘"
            ]
          },
          "execution_count": 12,
          "metadata": {},
          "output_type": "execute_result"
        }
      ],
      "source": [
        "con.sql(\"\"\"\n",
        "SELECT name, boroname\n",
        "FROM nyc_neighborhoods\n",
        "WHERE ST_Intersects(geom, ST_GeomFromText('POINT(583571 4506714)'));\n",
        "\"\"\")"
      ],
      "id": "DeHTYIQ_Aq0o"
    },
    {
      "cell_type": "markdown",
      "metadata": {
        "id": "WBECtoIcAq0o"
      },
      "source": [
        "## ST_Touches\n",
        "\n",
        "`ST_Touches` tests whether two\n",
        "geometries touch at their boundaries, but do not intersect in their\n",
        "interiors\n",
        "\n",
        "![](https://postgis.net/workshops/postgis-intro/_images/st_touches.png)\n",
        "\n",
        "`ST_Touches(geometry A, geometry B)`\n",
        "returns TRUE if either of the geometries\\' boundaries intersect or if\n",
        "only one of the geometry\\'s interiors intersects the other\\'s boundary.\n",
        "\n",
        "## ST_Within and ST_Contains\n",
        "\n",
        "`ST_Within` and\n",
        "`ST_Contains` test whether one\n",
        "geometry is fully within the other.\n",
        "\n",
        "![](https://postgis.net/workshops/postgis-intro/_images/st_within.png)\n",
        "\n",
        "`ST_Within(geometry A , geometry B)`\n",
        "returns TRUE if the first geometry is completely within the second\n",
        "geometry. ST_Within tests for the exact opposite result of ST_Contains.\n",
        "\n",
        "`ST_Contains(geometry A, geometry B)`\n",
        "returns TRUE if the second geometry is completely contained by the first\n",
        "geometry.\n",
        "\n",
        "## ST_Distance and ST_DWithin\n",
        "\n",
        "An extremely common GIS question is \\\"find all the stuff within distance\n",
        "X of this other stuff\\\".\n",
        "\n",
        "The `ST_Distance(geometry A, geometry B)` calculates the *shortest* distance between two\n",
        "geometries and returns it as a float. This is useful for actually\n",
        "reporting back the distance between objects."
      ],
      "id": "WBECtoIcAq0o"
    },
    {
      "cell_type": "code",
      "execution_count": null,
      "metadata": {
        "id": "jFB6_kwOAq0o",
        "outputId": "e9fdb7a8-1315-4d4c-82dd-08df5867dcc1"
      },
      "outputs": [
        {
          "data": {
            "text/plain": [
              "┌────────┐\n",
              "│  dist  │\n",
              "│ double │\n",
              "├────────┤\n",
              "│    3.0 │\n",
              "└────────┘"
            ]
          },
          "execution_count": 13,
          "metadata": {},
          "output_type": "execute_result"
        }
      ],
      "source": [
        "con.sql(\"\"\"\n",
        "SELECT ST_Distance(\n",
        "  ST_GeomFromText('POINT(0 5)'),\n",
        "  ST_GeomFromText('LINESTRING(-2 2, 2 2)')) as dist;\n",
        "\"\"\")"
      ],
      "id": "jFB6_kwOAq0o"
    },
    {
      "cell_type": "markdown",
      "metadata": {
        "id": "PtZdgt4CAq0o"
      },
      "source": [
        "For testing whether two objects are within a distance of one another,\n",
        "the `ST_DWithin` function provides an\n",
        "index-accelerated true/false test. This is useful for questions like\n",
        "\\\"how many trees are within a 500 meter buffer of the road?\\\". You\n",
        "don\\'t have to calculate an actual buffer, you just have to test the\n",
        "distance relationship.\n",
        "\n",
        "![](https://postgis.net/workshops/postgis-intro/_images/st_dwithin.png)\n",
        "\n",
        "Using our Broad Street subway station again, we can find the streets\n",
        "nearby (within 10 meters of) the subway stop:"
      ],
      "id": "PtZdgt4CAq0o"
    },
    {
      "cell_type": "code",
      "execution_count": null,
      "metadata": {
        "id": "PyrGUxHqAq0o",
        "outputId": "647cd966-09a2-49e9-cb71-b235aae98331"
      },
      "outputs": [
        {
          "data": {
            "text/plain": [
              "┌───────┬─────────────┬─────────┬───────────────┬──────────────────────────────────────────────────────────────────────┐\n",
              "│  ID   │    NAME     │ ONEWAY  │     TYPE      │                                 geom                                 │\n",
              "│ int32 │   varchar   │ varchar │    varchar    │                               geometry                               │\n",
              "├───────┼─────────────┼─────────┼───────────────┼──────────────────────────────────────────────────────────────────────┤\n",
              "│     1 │ Shore Pky S │ NULL    │ residential   │ MULTILINESTRING ((586785.4767897038 4492901.0014554765, 586898.232…  │\n",
              "│     2 │ NULL        │ NULL    │ footway       │ MULTILINESTRING ((586645.0073625665 4504977.750360583, 586664.2248…  │\n",
              "│     3 │ Avenue O    │ NULL    │ residential   │ MULTILINESTRING ((586750.3019977848 4496109.72213903, 586837.37268…  │\n",
              "│     4 │ Walsh Ct    │ NULL    │ residential   │ MULTILINESTRING ((586728.695515043 4497971.05313857, 586886.358225…  │\n",
              "│     5 │ NULL        │ NULL    │ motorway_link │ MULTILINESTRING ((586587.0531467082 4510088.250402982, 586641.7339…  │\n",
              "└───────┴─────────────┴─────────┴───────────────┴──────────────────────────────────────────────────────────────────────┘"
            ]
          },
          "execution_count": 14,
          "metadata": {},
          "output_type": "execute_result"
        }
      ],
      "source": [
        "con.sql(\"FROM nyc_streets LIMIT 5\")"
      ],
      "id": "PyrGUxHqAq0o"
    },
    {
      "cell_type": "code",
      "execution_count": null,
      "metadata": {
        "id": "So3F5HQTAq0o",
        "outputId": "38d5d5f4-7918-46e0-a20b-588824fc2127"
      },
      "outputs": [
        {
          "data": {
            "text/plain": [
              "┌───────────┐\n",
              "│   NAME    │\n",
              "│  varchar  │\n",
              "├───────────┤\n",
              "│ Wall St   │\n",
              "│ Broad St  │\n",
              "│ Nassau St │\n",
              "└───────────┘"
            ]
          },
          "execution_count": 15,
          "metadata": {},
          "output_type": "execute_result"
        }
      ],
      "source": [
        "con.sql(\"\"\"\n",
        "SELECT name\n",
        "FROM nyc_streets\n",
        "WHERE ST_DWithin(\n",
        "        geom,\n",
        "        ST_GeomFromText('POINT(583571 4506714)'),\n",
        "        10\n",
        "      );\n",
        "\"\"\")"
      ],
      "id": "So3F5HQTAq0o"
    },
    {
      "cell_type": "markdown",
      "metadata": {
        "id": "zN32eX0TAq0o"
      },
      "source": [
        "And we can verify the answer on a map. The Broad St station is actually\n",
        "at the intersection of Wall, Broad and Nassau Streets.\n",
        "\n",
        "![image](https://postgis.net/workshops/postgis-intro/_images/broad_st.jpg)\n",
        "\n",
        "## Function List\n",
        "\n",
        "[ST_Contains(geometry A, geometry\n",
        "B)](http://postgis.net/docs/ST_Contains.html): Returns true if and only\n",
        "if no points of B lie in the exterior of A, and at least one point of\n",
        "the interior of B lies in the interior of A.\n",
        "\n",
        "[ST_Crosses(geometry A, geometry\n",
        "B)](http://postgis.net/docs/ST_Crosses.html): Returns TRUE if the\n",
        "supplied geometries have some, but not all, interior points in common.\n",
        "\n",
        "[ST_Disjoint(geometry A , geometry\n",
        "B)](http://postgis.net/docs/ST_Disjoint.html): Returns TRUE if the\n",
        "Geometries do not \\\"spatially intersect\\\" - if they do not share any\n",
        "space together.\n",
        "\n",
        "[ST_Distance(geometry A, geometry\n",
        "B)](http://postgis.net/docs/ST_Distance.html): Returns the 2-dimensional\n",
        "cartesian minimum distance (based on spatial ref) between two geometries\n",
        "in projected units.\n",
        "\n",
        "[ST_DWithin(geometry A, geometry B,\n",
        "radius)](http://postgis.net/docs/ST_DWithin.html): Returns true if the\n",
        "geometries are within the specified distance (radius) of one another.\n",
        "\n",
        "[ST_Equals(geometry A, geometry\n",
        "B)](http://postgis.net/docs/ST_Equals.html): Returns true if the given\n",
        "geometries represent the same geometry. Directionality is ignored.\n",
        "\n",
        "[ST_Intersects(geometry A, geometry\n",
        "B)](http://postgis.net/docs/ST_Intersects.html): Returns TRUE if the\n",
        "Geometries/Geography \\\"spatially intersect\\\" - (share any portion of\n",
        "space) and FALSE if they don\\'t (they are Disjoint).\n",
        "\n",
        "[ST_Overlaps(geometry A, geometry\n",
        "B)](http://postgis.net/docs/ST_Overlaps.html): Returns TRUE if the\n",
        "Geometries share space, are of the same dimension, but are not\n",
        "completely contained by each other.\n",
        "\n",
        "[ST_Touches(geometry A, geometry\n",
        "B)](http://postgis.net/docs/ST_Touches.html): Returns TRUE if the\n",
        "geometries have at least one point in common, but their interiors do not\n",
        "intersect.\n",
        "\n",
        "[ST_Within(geometry A , geometry\n",
        "B)](http://postgis.net/docs/ST_Within.html): Returns true if the\n",
        "geometry A is completely inside geometry B\n"
      ],
      "id": "zN32eX0TAq0o"
    }
  ],
  "metadata": {
    "hide_input": false,
    "kernelspec": {
      "display_name": "Python 3",
      "language": "python",
      "name": "python3"
    },
    "language_info": {
      "codemirror_mode": {
        "name": "ipython",
        "version": 3
      },
      "file_extension": ".py",
      "mimetype": "text/x-python",
      "name": "python",
      "nbconvert_exporter": "python",
      "pygments_lexer": "ipython3",
      "version": "3.11.5"
    },
    "toc": {
      "base_numbering": 1,
      "nav_menu": {},
      "number_sections": true,
      "sideBar": true,
      "skip_h1_title": false,
      "title_cell": "Table of Contents",
      "title_sidebar": "Contents",
      "toc_cell": false,
      "toc_position": {},
      "toc_section_display": true,
      "toc_window_display": true
    },
    "varInspector": {
      "cols": {
        "lenName": 16,
        "lenType": 16,
        "lenVar": 40
      },
      "kernels_config": {
        "python": {
          "delete_cmd_postfix": "",
          "delete_cmd_prefix": "del ",
          "library": "var_list.py",
          "varRefreshCmd": "print(var_dic_list())"
        },
        "r": {
          "delete_cmd_postfix": ") ",
          "delete_cmd_prefix": "rm(",
          "library": "var_list.r",
          "varRefreshCmd": "cat(var_dic_list()) "
        }
      },
      "types_to_exclude": [
        "module",
        "function",
        "builtin_function_or_method",
        "instance",
        "_Feature"
      ],
      "window_display": false
    },
    "colab": {
      "provenance": []
    }
  },
  "nbformat": 4,
  "nbformat_minor": 5
}